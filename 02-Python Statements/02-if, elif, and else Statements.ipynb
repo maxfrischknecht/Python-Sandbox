{
 "cells": [
  {
   "cell_type": "code",
   "execution_count": 6,
   "metadata": {},
   "outputs": [
    {
     "name": "stdout",
     "output_type": "stream",
     "text": [
      "not hungry\n"
     ]
    }
   ],
   "source": [
    "hungry = False\n",
    "\n",
    "if hungry:\n",
    "    print('feed me!')\n",
    "else:\n",
    "    print('not hungry')"
   ]
  },
  {
   "cell_type": "code",
   "execution_count": 10,
   "metadata": {},
   "outputs": [
    {
     "name": "stdout",
     "output_type": "stream",
     "text": [
      "sweet! say hi to chomsky\n"
     ]
    }
   ],
   "source": [
    "loc = 'Boston'\n",
    "\n",
    "if loc == 'Paris':\n",
    "    print('Love is in the air')\n",
    "elif loc == 'Boston':\n",
    "    print('sweet! say hi to chomsky')\n",
    "else:\n",
    "    print('where are you?')"
   ]
  },
  {
   "cell_type": "code",
   "execution_count": 11,
   "metadata": {},
   "outputs": [
    {
     "name": "stdout",
     "output_type": "stream",
     "text": [
      "Hey Samy\n"
     ]
    }
   ],
   "source": [
    "name = 'Samy'\n",
    "\n",
    "if name =='Franky':\n",
    "    print('Hey Franky')\n",
    "elif name == 'Samy':\n",
    "    print('Hey Samy')\n",
    "else:\n",
    "    print('Whats your name?')"
   ]
  },
  {
   "cell_type": "code",
   "execution_count": null,
   "metadata": {},
   "outputs": [],
   "source": []
  }
 ],
 "metadata": {
  "kernelspec": {
   "display_name": "Python 3",
   "language": "python",
   "name": "python3"
  },
  "language_info": {
   "codemirror_mode": {
    "name": "ipython",
    "version": 3
   },
   "file_extension": ".py",
   "mimetype": "text/x-python",
   "name": "python",
   "nbconvert_exporter": "python",
   "pygments_lexer": "ipython3",
   "version": "3.7.6"
  }
 },
 "nbformat": 4,
 "nbformat_minor": 4
}
